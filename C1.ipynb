{
  "nbformat": 4,
  "nbformat_minor": 0,
  "metadata": {
    "colab": {
      "name": "C1.ipynb",
      "provenance": [],
      "collapsed_sections": []
    },
    "kernelspec": {
      "name": "python3",
      "display_name": "Python 3"
    }
  },
  "cells": [
    {
      "cell_type": "markdown",
      "metadata": {
        "id": "8uiQjvATTfFJ"
      },
      "source": [
        "**Пример решения задачи на равновесие произвольной плоской системы сил**"
      ]
    },
    {
      "cell_type": "markdown",
      "metadata": {
        "id": "Q_w1-2DJRltE"
      },
      "source": [
        "Запишем функцию импорта библиотек, которые для краткости и удобства использования импортируем под короткими именами np и sp:"
      ]
    },
    {
      "cell_type": "code",
      "metadata": {
        "id": "HbvkxAS1Rywn"
      },
      "source": [
        "import numpy as np\n",
        "import sympy as sp"
      ],
      "execution_count": null,
      "outputs": []
    },
    {
      "cell_type": "markdown",
      "metadata": {
        "id": "ePX8I_yZR0vD"
      },
      "source": [
        "Обозначим неизвестные величины как символьные для дальнейшего решения уравнений:"
      ]
    },
    {
      "cell_type": "code",
      "metadata": {
        "id": "TIW01BAQR3tN"
      },
      "source": [
        "Xa, Ya, Ma = sp.symbols('Xa, Ya, Ma')"
      ],
      "execution_count": null,
      "outputs": []
    },
    {
      "cell_type": "markdown",
      "metadata": {
        "id": "OGuUDHHSR6_c"
      },
      "source": [
        ""
      ]
    },
    {
      "cell_type": "markdown",
      "metadata": {
        "id": "9uZjOodSSE66"
      },
      "source": [
        "Предварительно зададим известные величины:"
      ]
    },
    {
      "cell_type": "code",
      "metadata": {
        "id": "_dkKOsmiSFsj"
      },
      "source": [
        "F = 4\n",
        "Q = 18\n",
        "M = 2\n",
        "a = 6\n",
        "b = 3"
      ],
      "execution_count": null,
      "outputs": []
    },
    {
      "cell_type": "markdown",
      "metadata": {
        "id": "8gjJY5hqSH2W"
      },
      "source": [
        "Далее запишем уравнения:"
      ]
    },
    {
      "cell_type": "code",
      "metadata": {
        "id": "_Olll7G9SKYA"
      },
      "source": [
        "Fx = sp.Eq(Xa, F * np.cos(np.pi/4))\n",
        "Fy = sp.Eq(Ya, Q - F * np.sin(np.pi/4))\n",
        "Mo = sp.Eq(Ma, M + Q * a/2 - F * np.sin(np.pi/4) * (a + b))"
      ],
      "execution_count": null,
      "outputs": []
    },
    {
      "cell_type": "markdown",
      "metadata": {
        "id": "AnNPppXUSQbq"
      },
      "source": [
        "Запишем функцию, позволяющую найти неизвестные величины:"
      ]
    },
    {
      "cell_type": "code",
      "metadata": {
        "id": "goB0XgkwSRV1"
      },
      "source": [
        "ans = sp.solve((Fx, Fy, Mo), (Xa, Ya, Ma))"
      ],
      "execution_count": null,
      "outputs": []
    },
    {
      "cell_type": "markdown",
      "metadata": {
        "id": "NE-VF_r1STus"
      },
      "source": [
        "Для удобства округлим полученные значения и выведем результат:"
      ]
    },
    {
      "cell_type": "code",
      "metadata": {
        "colab": {
          "base_uri": "https://localhost:8080/"
        },
        "id": "PRFsKMLjSWtm",
        "outputId": "cbcc564f-1305-49d2-8771-cefe405f6693"
      },
      "source": [
        "for key in ans:\n",
        "    ans[key] = round(ans[key], 2)\n",
        "print(ans)"
      ],
      "execution_count": null,
      "outputs": [
        {
          "output_type": "stream",
          "text": [
            "{Xa: 2.83, Ya: 15.17, Ma: 30.54}\n"
          ],
          "name": "stdout"
        }
      ]
    }
  ]
}